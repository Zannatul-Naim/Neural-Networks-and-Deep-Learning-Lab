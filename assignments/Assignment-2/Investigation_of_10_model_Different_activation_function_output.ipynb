{
  "nbformat": 4,
  "nbformat_minor": 0,
  "metadata": {
    "colab": {
      "provenance": [],
      "gpuType": "T4"
    },
    "kernelspec": {
      "name": "python3",
      "display_name": "Python 3"
    },
    "language_info": {
      "name": "python"
    },
    "accelerator": "GPU"
  },
  "cells": [
    {
      "cell_type": "markdown",
      "source": [
        "# 1. VGG16"
      ],
      "metadata": {
        "id": "dDsPtLWNKTyB"
      }
    },
    {
      "cell_type": "code",
      "execution_count": null,
      "metadata": {
        "id": "KZZ4ZqptEo4z"
      },
      "outputs": [],
      "source": [
        "from tensorflow.keras.applications import VGG16\n",
        "from tensorflow.keras.applications.vgg16 import preprocess_input\n",
        "import tensorflow as tf\n",
        "from tensorflow.keras.models import Model\n",
        "from tensorflow.keras.layers import GlobalAveragePooling2D, Dense\n",
        "# from sklearn.metrics import accuracy_score\n",
        "import numpy as np\n",
        "import random\n",
        "\n",
        "\n",
        "SEED = 42\n",
        "random.seed(SEED)\n",
        "np.random.seed(SEED)\n",
        "tf.random.set_seed(SEED)\n",
        "\n",
        "IMG_SIZE = 224\n",
        "NUM_CLASSES = 20\n",
        "(x_train, y_train), (x_test, y_test) = tf.keras.datasets.cifar100.load_data(label_mode='fine')\n",
        "y_train = y_train.flatten()\n",
        "y_test = y_test.flatten()\n",
        "\n",
        "selected_classes = random.sample(range(100), NUM_CLASSES)\n",
        "class_map = {orig: new for new, orig in enumerate(selected_classes)}\n",
        "\n",
        "test_mask = np.isin(y_test, selected_classes)\n",
        "x_test, y_test = x_test[test_mask], y_test[test_mask]\n",
        "y_test = np.vectorize(class_map.get)(y_test)\n",
        "\n",
        "x_test = tf.image.resize(x_test, (IMG_SIZE, IMG_SIZE)).numpy()\n",
        "\n",
        "vgg_16_test = preprocess_input(x_test)\n",
        "base_model_vgg16 = VGG16(include_top=False, weights='imagenet', input_shape=(IMG_SIZE, IMG_SIZE, 3))\n",
        "base_model_vgg16.trainable = False"
      ]
    },
    {
      "cell_type": "code",
      "source": [
        "for activation in ['softmax', 'sigmoid', 'relu', 'linear']:\n",
        "    print(f\"\\nTesting activation: {activation}\")\n",
        "\n",
        "    x = base_model_vgg16.output\n",
        "    x = GlobalAveragePooling2D()(x)\n",
        "    output = Dense(NUM_CLASSES, activation=activation)(x)\n",
        "    model = Model(inputs=base_model_vgg16.input, outputs=output)\n",
        "\n",
        "    y_pred_probs = model.predict(vgg_16_test, verbose=1)\n",
        "\n",
        "    if activation == 'softmax':\n",
        "        y_pred = np.argmax(y_pred_probs, axis=1)\n",
        "    elif activation == 'sigmoid':\n",
        "        y_pred = np.argmax(y_pred_probs, axis=1)\n",
        "    else:\n",
        "        y_pred = np.argmax(y_pred_probs, axis=1)\n",
        "\n",
        "    accuracy = np.mean(np.array(y_test) == np.array(y_pred))\n",
        "    print(f\"Accuracy: {accuracy:.4f}\")\n"
      ],
      "metadata": {
        "colab": {
          "base_uri": "https://localhost:8080/"
        },
        "id": "O18QnyepE0up",
        "outputId": "d0e7a4f9-62f7-45e8-dde7-3d9ced6b2503"
      },
      "execution_count": null,
      "outputs": [
        {
          "output_type": "stream",
          "name": "stdout",
          "text": [
            "\n",
            "Testing activation: softmax\n",
            "\u001b[1m63/63\u001b[0m \u001b[32m━━━━━━━━━━━━━━━━━━━━\u001b[0m\u001b[37m\u001b[0m \u001b[1m30s\u001b[0m 285ms/step\n",
            "Accuracy: 0.0895\n",
            "\n",
            "Testing activation: sigmoid\n",
            "\u001b[1m63/63\u001b[0m \u001b[32m━━━━━━━━━━━━━━━━━━━━\u001b[0m\u001b[37m\u001b[0m \u001b[1m11s\u001b[0m 164ms/step\n",
            "Accuracy: 0.0445\n",
            "\n",
            "Testing activation: relu\n",
            "\u001b[1m63/63\u001b[0m \u001b[32m━━━━━━━━━━━━━━━━━━━━\u001b[0m\u001b[37m\u001b[0m \u001b[1m11s\u001b[0m 169ms/step\n",
            "Accuracy: 0.0480\n",
            "\n",
            "Testing activation: linear\n",
            "\u001b[1m63/63\u001b[0m \u001b[32m━━━━━━━━━━━━━━━━━━━━\u001b[0m\u001b[37m\u001b[0m \u001b[1m11s\u001b[0m 168ms/step\n",
            "Accuracy: 0.0520\n"
          ]
        }
      ]
    },
    {
      "cell_type": "code",
      "source": [
        "print(f\"\\nAnalyzing model: {model.name}\\n{'='*40}\")\n",
        "\n",
        "for i, layer in enumerate(base_model_vgg16.layers):\n",
        "    layer_type = type(layer).__name__\n",
        "\n",
        "    if isinstance(layer, tf.keras.layers.Conv2D) and layer.dilation_rate != (1, 1):\n",
        "        print(f\"[Dilated]     Layer {i:03d} - {layer.name} - dilation_rate={layer.dilation_rate}\")\n",
        "    if isinstance(layer, tf.keras.layers.DepthwiseConv2D):\n",
        "        print(f\"[Depthwise]   Layer {i:03d} - {layer.name} - kernel_size={layer.kernel_size}\")\n",
        "    if isinstance(layer, tf.keras.layers.Conv2D) and layer.kernel_size == (1, 1):\n",
        "        print(f\"[Pointwise]   Layer {i:03d} - {layer.name} - kernel_size=1x1\")\n",
        "    if i > 0:\n",
        "        prev = model.layers[i-1]\n",
        "        if isinstance(prev, tf.keras.layers.DepthwiseConv2D) and \\\n",
        "           isinstance(layer, tf.keras.layers.Conv2D) and layer.kernel_size == (1, 1):\n",
        "            print(f\"[Modified DS] Layers {i-1:03d}-{i:03d}: {prev.name} → {layer.name}\")\n",
        "\n",
        "print(\"\\nAnalysis complete.\\n\")\n"
      ],
      "metadata": {
        "colab": {
          "base_uri": "https://localhost:8080/"
        },
        "id": "YZvKug5VjV0a",
        "outputId": "c3576ab5-1f8d-4504-e4b2-283725cbb579"
      },
      "execution_count": null,
      "outputs": [
        {
          "output_type": "stream",
          "name": "stdout",
          "text": [
            "\n",
            "Analyzing model: functional_3\n",
            "========================================\n",
            "\n",
            "Analysis complete.\n",
            "\n"
          ]
        }
      ]
    },
    {
      "cell_type": "markdown",
      "source": [
        "# 2. VGG19"
      ],
      "metadata": {
        "id": "4l34js1CKX74"
      }
    },
    {
      "cell_type": "code",
      "source": [
        "from tensorflow.keras.applications import VGG19\n",
        "from tensorflow.keras.applications.vgg19 import preprocess_input\n",
        "import tensorflow as tf\n",
        "from tensorflow.keras.models import Model\n",
        "from tensorflow.keras.layers import GlobalAveragePooling2D, Dense\n",
        "from sklearn.metrics import accuracy_score\n",
        "import numpy as np\n",
        "import random\n",
        "\n",
        "\n",
        "SEED = 42\n",
        "random.seed(SEED)\n",
        "np.random.seed(SEED)\n",
        "tf.random.set_seed(SEED)\n",
        "\n",
        "IMG_SIZE = 224\n",
        "NUM_CLASSES = 20\n",
        "(x_train, y_train), (x_test, y_test) = tf.keras.datasets.cifar100.load_data(label_mode='fine')\n",
        "y_train = y_train.flatten()\n",
        "y_test = y_test.flatten()\n",
        "\n",
        "selected_classes = random.sample(range(100), NUM_CLASSES)\n",
        "class_map = {orig: new for new, orig in enumerate(selected_classes)}\n",
        "\n",
        "test_mask = np.isin(y_test, selected_classes)\n",
        "x_test, y_test = x_test[test_mask], y_test[test_mask]\n",
        "y_test = np.vectorize(class_map.get)(y_test)\n",
        "\n",
        "x_test = tf.image.resize(x_test, (IMG_SIZE, IMG_SIZE)).numpy()\n",
        "\n",
        "model_vgg19 = VGG19\n",
        "vgg_19_test = preprocess_input(x_test)\n",
        "base_model_vgg19 = VGG19(include_top=False, weights='imagenet', input_shape=(IMG_SIZE, IMG_SIZE, 3))\n",
        "base_model_vgg19.trainable = False\n"
      ],
      "metadata": {
        "colab": {
          "base_uri": "https://localhost:8080/"
        },
        "id": "5MoXihXAF4n0",
        "outputId": "1a8c11d5-54ce-4f80-e741-25d574e40dd3"
      },
      "execution_count": null,
      "outputs": [
        {
          "output_type": "stream",
          "name": "stdout",
          "text": [
            "Downloading data from https://storage.googleapis.com/tensorflow/keras-applications/vgg19/vgg19_weights_tf_dim_ordering_tf_kernels_notop.h5\n",
            "\u001b[1m80134624/80134624\u001b[0m \u001b[32m━━━━━━━━━━━━━━━━━━━━\u001b[0m\u001b[37m\u001b[0m \u001b[1m0s\u001b[0m 0us/step\n"
          ]
        }
      ]
    },
    {
      "cell_type": "code",
      "source": [
        "for activation in ['softmax', 'sigmoid', 'relu', 'linear']:\n",
        "    print(f\"\\nTesting activation: {activation}\")\n",
        "\n",
        "    x = base_model_vgg19.output\n",
        "    x = GlobalAveragePooling2D()(x)\n",
        "    output = Dense(NUM_CLASSES, activation=activation)(x)\n",
        "    model = Model(inputs=base_model_vgg19.input, outputs=output)\n",
        "\n",
        "    y_pred_probs = model.predict(vgg_19_test, verbose=1)\n",
        "\n",
        "    if activation == 'softmax':\n",
        "        y_pred = np.argmax(y_pred_probs, axis=1)\n",
        "    elif activation == 'sigmoid':\n",
        "        y_pred = np.argmax(y_pred_probs, axis=1)\n",
        "    else:\n",
        "        y_pred = np.argmax(y_pred_probs, axis=1)\n",
        "\n",
        "    accuracy = np.mean(np.array(y_test) == np.array(y_pred))\n",
        "    print(f\"Accuracy: {accuracy:.4f}\")\n"
      ],
      "metadata": {
        "colab": {
          "base_uri": "https://localhost:8080/"
        },
        "id": "9f6awXauF9nN",
        "outputId": "6bee7ab5-7e78-4376-81f3-4ee0265d7a79"
      },
      "execution_count": null,
      "outputs": [
        {
          "output_type": "stream",
          "name": "stdout",
          "text": [
            "\n",
            "Testing activation: softmax\n",
            "\u001b[1m63/63\u001b[0m \u001b[32m━━━━━━━━━━━━━━━━━━━━\u001b[0m\u001b[37m\u001b[0m \u001b[1m14s\u001b[0m 208ms/step\n",
            "Accuracy: 0.0310\n",
            "\n",
            "Testing activation: sigmoid\n",
            "\u001b[1m63/63\u001b[0m \u001b[32m━━━━━━━━━━━━━━━━━━━━\u001b[0m\u001b[37m\u001b[0m \u001b[1m13s\u001b[0m 205ms/step\n",
            "Accuracy: 0.0500\n",
            "\n",
            "Testing activation: relu\n",
            "\u001b[1m63/63\u001b[0m \u001b[32m━━━━━━━━━━━━━━━━━━━━\u001b[0m\u001b[37m\u001b[0m \u001b[1m14s\u001b[0m 214ms/step\n",
            "Accuracy: 0.0490\n",
            "\n",
            "Testing activation: linear\n",
            "\u001b[1m63/63\u001b[0m \u001b[32m━━━━━━━━━━━━━━━━━━━━\u001b[0m\u001b[37m\u001b[0m \u001b[1m14s\u001b[0m 211ms/step\n",
            "Accuracy: 0.0570\n"
          ]
        }
      ]
    },
    {
      "cell_type": "markdown",
      "source": [
        "# 3. Xception"
      ],
      "metadata": {
        "id": "YEiAgMFoKqsO"
      }
    },
    {
      "cell_type": "code",
      "source": [
        "from tensorflow.keras.applications import Xception\n",
        "from tensorflow.keras.applications.xception import preprocess_input\n",
        "import tensorflow as tf\n",
        "from tensorflow.keras.models import Model\n",
        "from tensorflow.keras.layers import GlobalAveragePooling2D, Dense\n",
        "from sklearn.metrics import accuracy_score\n",
        "import numpy as np\n",
        "import random\n",
        "\n",
        "\n",
        "SEED = 42\n",
        "random.seed(SEED)\n",
        "np.random.seed(SEED)\n",
        "tf.random.set_seed(SEED)\n",
        "\n",
        "IMG_SIZE = 224\n",
        "NUM_CLASSES = 20\n",
        "(x_train, y_train), (x_test, y_test) = tf.keras.datasets.cifar100.load_data(label_mode='fine')\n",
        "y_train = y_train.flatten()\n",
        "y_test = y_test.flatten()\n",
        "\n",
        "selected_classes = random.sample(range(100), NUM_CLASSES)\n",
        "class_map = {orig: new for new, orig in enumerate(selected_classes)}\n",
        "\n",
        "test_mask = np.isin(y_test, selected_classes)\n",
        "x_test, y_test = x_test[test_mask], y_test[test_mask]\n",
        "y_test = np.vectorize(class_map.get)(y_test)\n",
        "\n",
        "x_test = tf.image.resize(x_test, (IMG_SIZE, IMG_SIZE)).numpy()\n",
        "\n",
        "model_xception = Xception\n",
        "xception_test = preprocess_input(x_test)\n",
        "\n",
        "base_model_xception = Xception(include_top=False, weights='imagenet', input_shape=(IMG_SIZE, IMG_SIZE, 3))\n",
        "base_model_xception.trainable = False\n"
      ],
      "metadata": {
        "colab": {
          "base_uri": "https://localhost:8080/"
        },
        "id": "a6Ldz2whGUBW",
        "outputId": "276ed8fc-fea5-4784-e1a9-9cff13b98dd1"
      },
      "execution_count": null,
      "outputs": [
        {
          "output_type": "stream",
          "name": "stdout",
          "text": [
            "Downloading data from https://storage.googleapis.com/tensorflow/keras-applications/xception/xception_weights_tf_dim_ordering_tf_kernels_notop.h5\n",
            "\u001b[1m83683744/83683744\u001b[0m \u001b[32m━━━━━━━━━━━━━━━━━━━━\u001b[0m\u001b[37m\u001b[0m \u001b[1m0s\u001b[0m 0us/step\n"
          ]
        }
      ]
    },
    {
      "cell_type": "code",
      "source": [
        "for activation in ['softmax', 'sigmoid', 'relu', 'linear']:\n",
        "    print(f\"\\nTesting activation: {activation}\")\n",
        "\n",
        "    x = base_model_xception.output\n",
        "    x = GlobalAveragePooling2D()(x)\n",
        "    output = Dense(NUM_CLASSES, activation=activation)(x)\n",
        "    model = Model(inputs=base_model_xception.input, outputs=output)\n",
        "\n",
        "    y_pred_probs = model.predict(xception_test, verbose=1)\n",
        "\n",
        "    if activation == 'softmax':\n",
        "        y_pred = np.argmax(y_pred_probs, axis=1)\n",
        "    elif activation == 'sigmoid':\n",
        "        y_pred = np.argmax(y_pred_probs, axis=1)\n",
        "    else:\n",
        "        y_pred = np.argmax(y_pred_probs, axis=1)\n",
        "\n",
        "    accuracy = np.mean(np.array(y_test) == np.array(y_pred))\n",
        "    print(f\"Accuracy: {accuracy:.4f}\")\n"
      ],
      "metadata": {
        "colab": {
          "base_uri": "https://localhost:8080/"
        },
        "id": "EQCG7JFfGYi5",
        "outputId": "c447cbac-4ce7-4bb0-a5b9-5e89de308709"
      },
      "execution_count": null,
      "outputs": [
        {
          "output_type": "stream",
          "name": "stdout",
          "text": [
            "\n",
            "Testing activation: softmax\n",
            "\u001b[1m63/63\u001b[0m \u001b[32m━━━━━━━━━━━━━━━━━━━━\u001b[0m\u001b[37m\u001b[0m \u001b[1m23s\u001b[0m 228ms/step\n",
            "Accuracy: 0.0520\n",
            "\n",
            "Testing activation: sigmoid\n",
            "\u001b[1m63/63\u001b[0m \u001b[32m━━━━━━━━━━━━━━━━━━━━\u001b[0m\u001b[37m\u001b[0m \u001b[1m13s\u001b[0m 168ms/step\n",
            "Accuracy: 0.0455\n",
            "\n",
            "Testing activation: relu\n",
            "\u001b[1m63/63\u001b[0m \u001b[32m━━━━━━━━━━━━━━━━━━━━\u001b[0m\u001b[37m\u001b[0m \u001b[1m13s\u001b[0m 172ms/step\n",
            "Accuracy: 0.0505\n",
            "\n",
            "Testing activation: linear\n",
            "\u001b[1m63/63\u001b[0m \u001b[32m━━━━━━━━━━━━━━━━━━━━\u001b[0m\u001b[37m\u001b[0m \u001b[1m13s\u001b[0m 169ms/step\n",
            "Accuracy: 0.0480\n"
          ]
        }
      ]
    },
    {
      "cell_type": "markdown",
      "source": [
        "# 4. ResNet50"
      ],
      "metadata": {
        "id": "ou2k6Px3Ku2s"
      }
    },
    {
      "cell_type": "code",
      "source": [
        "from tensorflow.keras.applications import ResNet50\n",
        "from tensorflow.keras.applications.resnet50 import preprocess_input\n",
        "import tensorflow as tf\n",
        "from tensorflow.keras.models import Model\n",
        "from tensorflow.keras.layers import GlobalAveragePooling2D, Dense\n",
        "from sklearn.metrics import accuracy_score\n",
        "import numpy as np\n",
        "import random\n",
        "\n",
        "\n",
        "SEED = 42\n",
        "random.seed(SEED)\n",
        "np.random.seed(SEED)\n",
        "tf.random.set_seed(SEED)\n",
        "\n",
        "IMG_SIZE = 224\n",
        "NUM_CLASSES = 20\n",
        "(x_train, y_train), (x_test, y_test) = tf.keras.datasets.cifar100.load_data(label_mode='fine')\n",
        "y_train = y_train.flatten()\n",
        "y_test = y_test.flatten()\n",
        "\n",
        "selected_classes = random.sample(range(100), NUM_CLASSES)\n",
        "class_map = {orig: new for new, orig in enumerate(selected_classes)}\n",
        "\n",
        "test_mask = np.isin(y_test, selected_classes)\n",
        "x_test, y_test = x_test[test_mask], y_test[test_mask]\n",
        "y_test = np.vectorize(class_map.get)(y_test)\n",
        "\n",
        "x_test = tf.image.resize(x_test, (IMG_SIZE, IMG_SIZE)).numpy()\n",
        "\n",
        "model_ResNet50 = ResNet50\n",
        "ResNet50_test = preprocess_input(x_test)\n",
        "base_model_ResNet50 = ResNet50(include_top=False, weights='imagenet', input_shape=(IMG_SIZE, IMG_SIZE, 3))\n",
        "base_model_ResNet50.trainable = False"
      ],
      "metadata": {
        "colab": {
          "base_uri": "https://localhost:8080/"
        },
        "id": "MuCUasMQG0cy",
        "outputId": "d8792a59-3e62-42a4-8ffd-a4dfd62593bf"
      },
      "execution_count": null,
      "outputs": [
        {
          "output_type": "stream",
          "name": "stdout",
          "text": [
            "Downloading data from https://storage.googleapis.com/tensorflow/keras-applications/resnet/resnet50_weights_tf_dim_ordering_tf_kernels_notop.h5\n",
            "\u001b[1m94765736/94765736\u001b[0m \u001b[32m━━━━━━━━━━━━━━━━━━━━\u001b[0m\u001b[37m\u001b[0m \u001b[1m0s\u001b[0m 0us/step\n"
          ]
        }
      ]
    },
    {
      "cell_type": "code",
      "source": [
        "for activation in ['softmax', 'sigmoid', 'relu', 'linear']:\n",
        "    print(f\"\\nTesting activation: {activation}\")\n",
        "\n",
        "    x = base_model_ResNet50.output\n",
        "    x = GlobalAveragePooling2D()(x)\n",
        "    output = Dense(NUM_CLASSES, activation=activation)(x)\n",
        "    model = Model(inputs=base_model_ResNet50.input, outputs=output)\n",
        "\n",
        "    y_pred_probs = model.predict(ResNet50_test, verbose=1)\n",
        "\n",
        "    if activation == 'softmax':\n",
        "        y_pred = np.argmax(y_pred_probs, axis=1)\n",
        "    elif activation == 'sigmoid':\n",
        "        y_pred = np.argmax(y_pred_probs, axis=1)\n",
        "    else:\n",
        "        y_pred = np.argmax(y_pred_probs, axis=1)\n",
        "\n",
        "    accuracy = np.mean(np.array(y_test) == np.array(y_pred))\n",
        "    print(f\"Accuracy: {accuracy:.4f}\")\n"
      ],
      "metadata": {
        "colab": {
          "base_uri": "https://localhost:8080/"
        },
        "id": "PEKnLSz2G5gL",
        "outputId": "16146bf5-5e1a-4072-e381-28ff45ef2bc0"
      },
      "execution_count": null,
      "outputs": [
        {
          "output_type": "stream",
          "name": "stdout",
          "text": [
            "\n",
            "Testing activation: softmax\n",
            "\u001b[1m63/63\u001b[0m \u001b[32m━━━━━━━━━━━━━━━━━━━━\u001b[0m\u001b[37m\u001b[0m \u001b[1m17s\u001b[0m 172ms/step\n",
            "Accuracy: 0.0725\n",
            "\n",
            "Testing activation: sigmoid\n",
            "\u001b[1m63/63\u001b[0m \u001b[32m━━━━━━━━━━━━━━━━━━━━\u001b[0m\u001b[37m\u001b[0m \u001b[1m12s\u001b[0m 139ms/step\n",
            "Accuracy: 0.0590\n",
            "\n",
            "Testing activation: relu\n",
            "\u001b[1m63/63\u001b[0m \u001b[32m━━━━━━━━━━━━━━━━━━━━\u001b[0m\u001b[37m\u001b[0m \u001b[1m12s\u001b[0m 138ms/step\n",
            "Accuracy: 0.0530\n",
            "\n",
            "Testing activation: linear\n",
            "\u001b[1m63/63\u001b[0m \u001b[32m━━━━━━━━━━━━━━━━━━━━\u001b[0m\u001b[37m\u001b[0m \u001b[1m13s\u001b[0m 147ms/step\n",
            "Accuracy: 0.0425\n"
          ]
        }
      ]
    },
    {
      "cell_type": "markdown",
      "source": [
        "#5. ResNet50V2"
      ],
      "metadata": {
        "id": "0j92SJl5LrlQ"
      }
    },
    {
      "cell_type": "code",
      "source": [
        "from tensorflow.keras.applications import ResNet50V2\n",
        "from tensorflow.keras.applications.resnet_v2 import preprocess_input\n",
        "import tensorflow as tf\n",
        "from tensorflow.keras.models import Model\n",
        "from tensorflow.keras.layers import GlobalAveragePooling2D, Dense\n",
        "from sklearn.metrics import accuracy_score\n",
        "import numpy as np\n",
        "import random\n",
        "\n",
        "\n",
        "SEED = 42\n",
        "random.seed(SEED)\n",
        "np.random.seed(SEED)\n",
        "tf.random.set_seed(SEED)\n",
        "\n",
        "IMG_SIZE = 224\n",
        "NUM_CLASSES = 20\n",
        "(x_train, y_train), (x_test, y_test) = tf.keras.datasets.cifar100.load_data(label_mode='fine')\n",
        "y_train = y_train.flatten()\n",
        "y_test = y_test.flatten()\n",
        "\n",
        "selected_classes = random.sample(range(100), NUM_CLASSES)\n",
        "class_map = {orig: new for new, orig in enumerate(selected_classes)}\n",
        "\n",
        "test_mask = np.isin(y_test, selected_classes)\n",
        "x_test, y_test = x_test[test_mask], y_test[test_mask]\n",
        "y_test = np.vectorize(class_map.get)(y_test)\n",
        "\n",
        "x_test = tf.image.resize(x_test, (IMG_SIZE, IMG_SIZE)).numpy()\n",
        "\n",
        "model_ResNet50V2 = ResNet50V2\n",
        "ResNet50V2_test = preprocess_input(x_test)\n",
        "base_model_ResNet50V2 = ResNet50V2(include_top=False, weights='imagenet', input_shape=(IMG_SIZE, IMG_SIZE, 3))\n",
        "base_model_ResNet50V2.trainable = False"
      ],
      "metadata": {
        "colab": {
          "base_uri": "https://localhost:8080/"
        },
        "id": "QEJJIvZ0HB1O",
        "outputId": "944116e5-b64a-4bb3-8a5a-555ac206342d"
      },
      "execution_count": null,
      "outputs": [
        {
          "output_type": "stream",
          "name": "stdout",
          "text": [
            "Downloading data from https://storage.googleapis.com/tensorflow/keras-applications/resnet/resnet50v2_weights_tf_dim_ordering_tf_kernels_notop.h5\n",
            "\u001b[1m94668760/94668760\u001b[0m \u001b[32m━━━━━━━━━━━━━━━━━━━━\u001b[0m\u001b[37m\u001b[0m \u001b[1m1s\u001b[0m 0us/step\n"
          ]
        }
      ]
    },
    {
      "cell_type": "code",
      "source": [
        "for activation in ['softmax', 'sigmoid', 'relu', 'linear']:\n",
        "    print(f\"\\nTesting activation: {activation}\")\n",
        "\n",
        "    x = base_model_ResNet50V2.output\n",
        "    x = GlobalAveragePooling2D()(x)\n",
        "    output = Dense(NUM_CLASSES, activation=activation)(x)\n",
        "    model = Model(inputs=base_model_ResNet50V2.input, outputs=output)\n",
        "\n",
        "    y_pred_probs = model.predict(ResNet50V2_test, verbose=1)\n",
        "\n",
        "    if activation == 'softmax':\n",
        "        y_pred = np.argmax(y_pred_probs, axis=1)\n",
        "    elif activation == 'sigmoid':\n",
        "        y_pred = np.argmax(y_pred_probs, axis=1)\n",
        "    else:\n",
        "        y_pred = np.argmax(y_pred_probs, axis=1)\n",
        "\n",
        "    accuracy = np.mean(np.array(y_test) == np.array(y_pred))\n",
        "    print(f\"Accuracy: {accuracy:.4f}\")"
      ],
      "metadata": {
        "colab": {
          "base_uri": "https://localhost:8080/"
        },
        "id": "yOqPZ-9ZHGUU",
        "outputId": "78737ef6-70e9-469a-cfa3-4121c64c2aa0"
      },
      "execution_count": null,
      "outputs": [
        {
          "output_type": "stream",
          "name": "stdout",
          "text": [
            "\n",
            "Testing activation: softmax\n",
            "\u001b[1m63/63\u001b[0m \u001b[32m━━━━━━━━━━━━━━━━━━━━\u001b[0m\u001b[37m\u001b[0m \u001b[1m17s\u001b[0m 162ms/step\n",
            "Accuracy: 0.0700\n",
            "\n",
            "Testing activation: sigmoid\n",
            "\u001b[1m63/63\u001b[0m \u001b[32m━━━━━━━━━━━━━━━━━━━━\u001b[0m\u001b[37m\u001b[0m \u001b[1m11s\u001b[0m 122ms/step\n",
            "Accuracy: 0.0430\n",
            "\n",
            "Testing activation: relu\n",
            "\u001b[1m63/63\u001b[0m \u001b[32m━━━━━━━━━━━━━━━━━━━━\u001b[0m\u001b[37m\u001b[0m \u001b[1m11s\u001b[0m 129ms/step\n",
            "Accuracy: 0.0325\n",
            "\n",
            "Testing activation: linear\n",
            "\u001b[1m63/63\u001b[0m \u001b[32m━━━━━━━━━━━━━━━━━━━━\u001b[0m\u001b[37m\u001b[0m \u001b[1m12s\u001b[0m 130ms/step\n",
            "Accuracy: 0.0530\n"
          ]
        }
      ]
    },
    {
      "cell_type": "markdown",
      "source": [
        "#6. InceptionV3"
      ],
      "metadata": {
        "id": "1eC4b9dwLx6a"
      }
    },
    {
      "cell_type": "code",
      "source": [
        "from tensorflow.keras.applications import InceptionV3\n",
        "from tensorflow.keras.applications.inception_v3 import preprocess_input\n",
        "import tensorflow as tf\n",
        "from tensorflow.keras.models import Model\n",
        "from tensorflow.keras.layers import GlobalAveragePooling2D, Dense\n",
        "from sklearn.metrics import accuracy_score\n",
        "import numpy as np\n",
        "import random\n",
        "\n",
        "\n",
        "SEED = 42\n",
        "random.seed(SEED)\n",
        "np.random.seed(SEED)\n",
        "tf.random.set_seed(SEED)\n",
        "\n",
        "IMG_SIZE = 224\n",
        "NUM_CLASSES = 20\n",
        "(x_train, y_train), (x_test, y_test) = tf.keras.datasets.cifar100.load_data(label_mode='fine')\n",
        "y_train = y_train.flatten()\n",
        "y_test = y_test.flatten()\n",
        "\n",
        "selected_classes = random.sample(range(100), NUM_CLASSES)\n",
        "class_map = {orig: new for new, orig in enumerate(selected_classes)}\n",
        "\n",
        "test_mask = np.isin(y_test, selected_classes)\n",
        "x_test, y_test = x_test[test_mask], y_test[test_mask]\n",
        "y_test = np.vectorize(class_map.get)(y_test)\n",
        "\n",
        "x_test = tf.image.resize(x_test, (IMG_SIZE, IMG_SIZE)).numpy()\n",
        "\n",
        "model_inceptionv3 = InceptionV3\n",
        "inception_test = preprocess_input(x_test)\n",
        "base_model_inceptionv3 = InceptionV3(include_top=False, weights='imagenet', input_shape=(IMG_SIZE, IMG_SIZE, 3))\n",
        "base_model_inceptionv3.trainable = False"
      ],
      "metadata": {
        "colab": {
          "base_uri": "https://localhost:8080/"
        },
        "id": "rRANlucWH1_C",
        "outputId": "2ba4d292-1534-442c-d4ad-90fda453bce1"
      },
      "execution_count": null,
      "outputs": [
        {
          "output_type": "stream",
          "name": "stdout",
          "text": [
            "Downloading data from https://storage.googleapis.com/tensorflow/keras-applications/inception_v3/inception_v3_weights_tf_dim_ordering_tf_kernels_notop.h5\n",
            "\u001b[1m87910968/87910968\u001b[0m \u001b[32m━━━━━━━━━━━━━━━━━━━━\u001b[0m\u001b[37m\u001b[0m \u001b[1m0s\u001b[0m 0us/step\n"
          ]
        }
      ]
    },
    {
      "cell_type": "code",
      "source": [
        "for activation in ['softmax', 'sigmoid', 'relu', 'linear']:\n",
        "    print(f\"\\nTesting activation: {activation}\")\n",
        "\n",
        "    x = base_model_inceptionv3.output\n",
        "    x = GlobalAveragePooling2D()(x)\n",
        "    output = Dense(NUM_CLASSES, activation=activation)(x)\n",
        "    model = Model(inputs=base_model_inceptionv3.input, outputs=output)\n",
        "\n",
        "    y_pred_probs = model.predict(inception_test, verbose=1)\n",
        "\n",
        "    if activation == 'softmax':\n",
        "        y_pred = np.argmax(y_pred_probs, axis=1)\n",
        "    elif activation == 'sigmoid':\n",
        "        y_pred = np.argmax(y_pred_probs, axis=1)\n",
        "    else:\n",
        "        y_pred = np.argmax(y_pred_probs, axis=1)\n",
        "\n",
        "    accuracy = np.mean(np.array(y_test) == np.array(y_pred))\n",
        "    print(f\"Accuracy: {accuracy:.4f}\")"
      ],
      "metadata": {
        "colab": {
          "base_uri": "https://localhost:8080/"
        },
        "id": "DnNssIKvH_o6",
        "outputId": "e4277c2e-e828-4a09-9179-f9ef631dbb99"
      },
      "execution_count": null,
      "outputs": [
        {
          "output_type": "stream",
          "name": "stdout",
          "text": [
            "\n",
            "Testing activation: softmax\n"
          ]
        }
      ]
    },
    {
      "cell_type": "markdown",
      "source": [
        "# 7. MobileNetV2"
      ],
      "metadata": {
        "id": "PYnWohX0MLJW"
      }
    },
    {
      "cell_type": "code",
      "source": [
        "from tensorflow.keras.applications import MobileNetV2\n",
        "from tensorflow.keras.applications.mobilenet_v2 import preprocess_input\n",
        "import tensorflow as tf\n",
        "from tensorflow.keras.models import Model\n",
        "from tensorflow.keras.layers import GlobalAveragePooling2D, Dense\n",
        "from sklearn.metrics import accuracy_score\n",
        "import numpy as np\n",
        "import random\n",
        "\n",
        "\n",
        "SEED = 42\n",
        "random.seed(SEED)\n",
        "np.random.seed(SEED)\n",
        "tf.random.set_seed(SEED)\n",
        "\n",
        "IMG_SIZE = 224\n",
        "NUM_CLASSES = 20\n",
        "(x_train, y_train), (x_test, y_test) = tf.keras.datasets.cifar100.load_data(label_mode='fine')\n",
        "y_train = y_train.flatten()\n",
        "y_test = y_test.flatten()\n",
        "\n",
        "selected_classes = random.sample(range(100), NUM_CLASSES)\n",
        "class_map = {orig: new for new, orig in enumerate(selected_classes)}\n",
        "\n",
        "test_mask = np.isin(y_test, selected_classes)\n",
        "x_test, y_test = x_test[test_mask], y_test[test_mask]\n",
        "y_test = np.vectorize(class_map.get)(y_test)\n",
        "\n",
        "x_test = tf.image.resize(x_test, (IMG_SIZE, IMG_SIZE)).numpy()\n",
        "\n",
        "mobileNetV2_test = preprocess_input(x_test)\n",
        "base_model_mobileNetV2 = MobileNetV2(include_top=False, weights='imagenet', input_shape=(IMG_SIZE, IMG_SIZE, 3))\n",
        "base_model_mobileNetV2.trainable = False\n"
      ],
      "metadata": {
        "id": "-ViEt9u2JQPU"
      },
      "execution_count": null,
      "outputs": []
    },
    {
      "cell_type": "code",
      "source": [
        "for activation in ['softmax', 'sigmoid', 'relu', 'linear']:\n",
        "    print(f\"\\nTesting activation: {activation}\")\n",
        "\n",
        "    x = base_model_mobileNetV2.output\n",
        "    x = GlobalAveragePooling2D()(x)\n",
        "    output = Dense(NUM_CLASSES, activation=activation)(x)\n",
        "    model = Model(inputs=base_model_mobileNetV2.input, outputs=output)\n",
        "\n",
        "    y_pred_probs = model.predict(mobileNetV2_test, verbose=1)\n",
        "\n",
        "    if activation == 'softmax':\n",
        "        y_pred = np.argmax(y_pred_probs, axis=1)\n",
        "    elif activation == 'sigmoid':\n",
        "        y_pred = np.argmax(y_pred_probs, axis=1)\n",
        "    else:\n",
        "        y_pred = np.argmax(y_pred_probs, axis=1)\n",
        "\n",
        "    accuracy = np.mean(np.array(y_test) == np.array(y_pred))\n",
        "    print(f\"Accuracy: {accuracy:.4f}\")"
      ],
      "metadata": {
        "id": "bgU9n55TJReR"
      },
      "execution_count": null,
      "outputs": []
    },
    {
      "cell_type": "markdown",
      "source": [
        "# 8. EfficientNetB0"
      ],
      "metadata": {
        "id": "ThBhdXxAN1Ya"
      }
    },
    {
      "cell_type": "code",
      "source": [
        "from tensorflow.keras.applications import EfficientNetB0\n",
        "from tensorflow.keras.applications.efficientnet import preprocess_input\n",
        "import tensorflow as tf\n",
        "from tensorflow.keras.models import Model\n",
        "from tensorflow.keras.layers import GlobalAveragePooling2D, Dense\n",
        "from sklearn.metrics import accuracy_score\n",
        "import numpy as np\n",
        "import random\n",
        "\n",
        "\n",
        "SEED = 42\n",
        "random.seed(SEED)\n",
        "np.random.seed(SEED)\n",
        "tf.random.set_seed(SEED)\n",
        "\n",
        "IMG_SIZE = 224\n",
        "NUM_CLASSES = 20\n",
        "(x_train, y_train), (x_test, y_test) = tf.keras.datasets.cifar100.load_data(label_mode='fine')\n",
        "y_train = y_train.flatten()\n",
        "y_test = y_test.flatten()\n",
        "\n",
        "selected_classes = random.sample(range(100), NUM_CLASSES)\n",
        "class_map = {orig: new for new, orig in enumerate(selected_classes)}\n",
        "\n",
        "test_mask = np.isin(y_test, selected_classes)\n",
        "x_test, y_test = x_test[test_mask], y_test[test_mask]\n",
        "y_test = np.vectorize(class_map.get)(y_test)\n",
        "\n",
        "x_test = tf.image.resize(x_test, (IMG_SIZE, IMG_SIZE)).numpy()\n",
        "\n",
        "model_EfficientNetB0 = EfficientNetB0\n",
        "EfficientNetB0_test = preprocess_input(x_test)\n",
        "base_model_EfficientNetB0 = EfficientNetB0(include_top=False, weights='imagenet', input_shape=(IMG_SIZE, IMG_SIZE, 3))\n",
        "base_model_EfficientNetB0.trainable = False"
      ],
      "metadata": {
        "id": "YZZV6fGwJTRt"
      },
      "execution_count": null,
      "outputs": []
    },
    {
      "cell_type": "code",
      "source": [
        "for activation in ['softmax', 'sigmoid', 'relu', 'linear']:\n",
        "    print(f\"\\nTesting activation: {activation}\")\n",
        "\n",
        "    x = base_model_EfficientNetB0.output\n",
        "    x = GlobalAveragePooling2D()(x)\n",
        "    output = Dense(NUM_CLASSES, activation=activation)(x)\n",
        "    model = Model(inputs=base_model_EfficientNetB0.input, outputs=output)\n",
        "\n",
        "    y_pred_probs = model.predict(EfficientNetB0_test, verbose=1)\n",
        "\n",
        "    if activation == 'softmax':\n",
        "        y_pred = np.argmax(y_pred_probs, axis=1)\n",
        "    elif activation == 'sigmoid':\n",
        "        y_pred = np.argmax(y_pred_probs, axis=1)\n",
        "    else:\n",
        "        y_pred = np.argmax(y_pred_probs, axis=1)\n",
        "\n",
        "    accuracy = np.mean(np.array(y_test) == np.array(y_pred))\n",
        "    print(f\"Accuracy: {accuracy:.4f}\")"
      ],
      "metadata": {
        "id": "Pu-3JuphNsQs"
      },
      "execution_count": null,
      "outputs": []
    },
    {
      "cell_type": "markdown",
      "source": [
        "# 9. DenseNet121"
      ],
      "metadata": {
        "id": "bxBxhRfFOt9u"
      }
    },
    {
      "cell_type": "code",
      "source": [
        "from tensorflow.keras.applications import DenseNet121\n",
        "from tensorflow.keras.applications.densenet import preprocess_input\n",
        "import tensorflow as tf\n",
        "from tensorflow.keras.models import Model\n",
        "from tensorflow.keras.layers import GlobalAveragePooling2D, Dense\n",
        "from sklearn.metrics import accuracy_score\n",
        "import numpy as np\n",
        "import random\n",
        "\n",
        "\n",
        "SEED = 42\n",
        "random.seed(SEED)\n",
        "np.random.seed(SEED)\n",
        "tf.random.set_seed(SEED)\n",
        "\n",
        "IMG_SIZE = 224\n",
        "NUM_CLASSES = 20\n",
        "(x_train, y_train), (x_test, y_test) = tf.keras.datasets.cifar100.load_data(label_mode='fine')\n",
        "y_train = y_train.flatten()\n",
        "y_test = y_test.flatten()\n",
        "\n",
        "selected_classes = random.sample(range(100), NUM_CLASSES)\n",
        "class_map = {orig: new for new, orig in enumerate(selected_classes)}\n",
        "\n",
        "test_mask = np.isin(y_test, selected_classes)\n",
        "x_test, y_test = x_test[test_mask], y_test[test_mask]\n",
        "y_test = np.vectorize(class_map.get)(y_test)\n",
        "\n",
        "x_test = tf.image.resize(x_test, (IMG_SIZE, IMG_SIZE)).numpy()\n",
        "\n",
        "denseNet121_test = preprocess_input(x_test)\n",
        "base_model_denseNet121 = DenseNet121(include_top=False, weights='imagenet', input_shape=(IMG_SIZE, IMG_SIZE, 3))\n",
        "base_model_denseNet121.trainable = False"
      ],
      "metadata": {
        "id": "ArInUKarNwbd"
      },
      "execution_count": null,
      "outputs": []
    },
    {
      "cell_type": "code",
      "source": [
        "for activation in ['softmax', 'sigmoid', 'relu', 'linear']:\n",
        "    print(f\"\\nTesting activation: {activation}\")\n",
        "\n",
        "    x = base_model_denseNet121.output\n",
        "    x = GlobalAveragePooling2D()(x)\n",
        "    output = Dense(NUM_CLASSES, activation=activation)(x)\n",
        "    model = Model(inputs=base_model_denseNet121.input, outputs=output)\n",
        "\n",
        "    y_pred_probs = model.predict(denseNet121_test, verbose=1)\n",
        "\n",
        "    if activation == 'softmax':\n",
        "        y_pred = np.argmax(y_pred_probs, axis=1)\n",
        "    elif activation == 'sigmoid':\n",
        "        y_pred = np.argmax(y_pred_probs, axis=1)\n",
        "    else:\n",
        "        y_pred = np.argmax(y_pred_probs, axis=1)\n",
        "\n",
        "    accuracy = np.mean(np.array(y_test) == np.array(y_pred))\n",
        "    print(f\"Accuracy: {accuracy:.4f}\")"
      ],
      "metadata": {
        "id": "2T7Nfy7DOGJy"
      },
      "execution_count": null,
      "outputs": []
    },
    {
      "cell_type": "markdown",
      "source": [
        "# 10. NASNetMobile"
      ],
      "metadata": {
        "id": "Dva0QQEwPQjU"
      }
    },
    {
      "cell_type": "code",
      "source": [
        "from tensorflow.keras.applications import NASNetMobile\n",
        "from tensorflow.keras.applications.nasnet import preprocess_input\n",
        "import tensorflow as tf\n",
        "from tensorflow.keras.models import Model\n",
        "from tensorflow.keras.layers import GlobalAveragePooling2D, Dense\n",
        "from sklearn.metrics import accuracy_score\n",
        "import numpy as np\n",
        "import random\n",
        "\n",
        "\n",
        "SEED = 42\n",
        "random.seed(SEED)\n",
        "np.random.seed(SEED)\n",
        "tf.random.set_seed(SEED)\n",
        "\n",
        "IMG_SIZE = 224\n",
        "NUM_CLASSES = 20\n",
        "(x_train, y_train), (x_test, y_test) = tf.keras.datasets.cifar100.load_data(label_mode='fine')\n",
        "y_train = y_train.flatten()\n",
        "y_test = y_test.flatten()\n",
        "\n",
        "selected_classes = random.sample(range(100), NUM_CLASSES)\n",
        "class_map = {orig: new for new, orig in enumerate(selected_classes)}\n",
        "\n",
        "test_mask = np.isin(y_test, selected_classes)\n",
        "x_test, y_test = x_test[test_mask], y_test[test_mask]\n",
        "y_test = np.vectorize(class_map.get)(y_test)\n",
        "\n",
        "x_test = tf.image.resize(x_test, (IMG_SIZE, IMG_SIZE)).numpy()\n",
        "\n",
        "nasaNetMobile_test = preprocess_input(x_test)\n",
        "base_model_nasNetMobile = NASNetMobile(include_top=False, weights='imagenet', input_shape=(IMG_SIZE, IMG_SIZE, 3))\n",
        "base_model_nasNetMobile.trainable = False"
      ],
      "metadata": {
        "id": "udcUbCWLOiB-"
      },
      "execution_count": null,
      "outputs": []
    },
    {
      "cell_type": "code",
      "source": [
        "for activation in ['softmax', 'sigmoid', 'relu', 'linear']:\n",
        "    print(f\"\\nTesting activation: {activation}\")\n",
        "\n",
        "    x = base_model_nasNetMobile.output\n",
        "    x = GlobalAveragePooling2D()(x)\n",
        "    output = Dense(NUM_CLASSES, activation=activation)(x)\n",
        "    model = Model(inputs=base_model_nasNetMobile.input, outputs=output)\n",
        "\n",
        "    y_pred_probs = model.predict(nasaNetMobile_test, verbose=1)\n",
        "\n",
        "    if activation == 'softmax':\n",
        "        y_pred = np.argmax(y_pred_probs, axis=1)\n",
        "    elif activation == 'sigmoid':\n",
        "        y_pred = np.argmax(y_pred_probs, axis=1)\n",
        "    else:\n",
        "        y_pred = np.argmax(y_pred_probs, axis=1)\n",
        "\n",
        "    accuracy = np.mean(np.array(y_test) == np.array(y_pred))\n",
        "    print(f\"Accuracy: {accuracy:.4f}\")"
      ],
      "metadata": {
        "id": "7biO1O49OkkY"
      },
      "execution_count": null,
      "outputs": []
    }
  ]
}